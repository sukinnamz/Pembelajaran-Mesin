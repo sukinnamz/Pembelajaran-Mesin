{
 "cells": [
  {
   "cell_type": "markdown",
   "id": "b707bdf0",
   "metadata": {},
   "source": [
    "# Bagian 1"
   ]
  },
  {
   "cell_type": "code",
   "execution_count": 1,
   "id": "c6ddb1e9",
   "metadata": {},
   "outputs": [
    {
     "name": "stdout",
     "output_type": "stream",
     "text": [
      "Requirement already satisfied: PyPREP in c:\\users\\innam\\anaconda3\\lib\\site-packages (0.5.0)\n",
      "Requirement already satisfied: mne>=1.3.0 in c:\\users\\innam\\anaconda3\\lib\\site-packages (from PyPREP) (1.10.1)\n",
      "Requirement already satisfied: numpy>=1.20.2 in c:\\users\\innam\\anaconda3\\lib\\site-packages (from PyPREP) (2.1.3)\n",
      "Requirement already satisfied: psutil>=5.4.3 in c:\\users\\innam\\anaconda3\\lib\\site-packages (from PyPREP) (5.9.0)\n",
      "Requirement already satisfied: scipy>=1.6.3 in c:\\users\\innam\\anaconda3\\lib\\site-packages (from PyPREP) (1.15.3)\n",
      "Requirement already satisfied: decorator in c:\\users\\innam\\anaconda3\\lib\\site-packages (from mne>=1.3.0->PyPREP) (5.1.1)\n",
      "Requirement already satisfied: jinja2 in c:\\users\\innam\\anaconda3\\lib\\site-packages (from mne>=1.3.0->PyPREP) (3.1.6)\n",
      "Requirement already satisfied: lazy-loader>=0.3 in c:\\users\\innam\\anaconda3\\lib\\site-packages (from mne>=1.3.0->PyPREP) (0.4)\n",
      "Requirement already satisfied: matplotlib>=3.7 in c:\\users\\innam\\anaconda3\\lib\\site-packages (from mne>=1.3.0->PyPREP) (3.10.0)\n",
      "Requirement already satisfied: packaging in c:\\users\\innam\\anaconda3\\lib\\site-packages (from mne>=1.3.0->PyPREP) (24.2)\n",
      "Requirement already satisfied: pooch>=1.5 in c:\\users\\innam\\anaconda3\\lib\\site-packages (from mne>=1.3.0->PyPREP) (1.8.2)\n",
      "Requirement already satisfied: tqdm in c:\\users\\innam\\anaconda3\\lib\\site-packages (from mne>=1.3.0->PyPREP) (4.67.1)\n",
      "Requirement already satisfied: contourpy>=1.0.1 in c:\\users\\innam\\anaconda3\\lib\\site-packages (from matplotlib>=3.7->mne>=1.3.0->PyPREP) (1.3.1)\n",
      "Requirement already satisfied: cycler>=0.10 in c:\\users\\innam\\anaconda3\\lib\\site-packages (from matplotlib>=3.7->mne>=1.3.0->PyPREP) (0.11.0)\n",
      "Requirement already satisfied: fonttools>=4.22.0 in c:\\users\\innam\\anaconda3\\lib\\site-packages (from matplotlib>=3.7->mne>=1.3.0->PyPREP) (4.55.3)\n",
      "Requirement already satisfied: kiwisolver>=1.3.1 in c:\\users\\innam\\anaconda3\\lib\\site-packages (from matplotlib>=3.7->mne>=1.3.0->PyPREP) (1.4.8)\n",
      "Requirement already satisfied: pillow>=8 in c:\\users\\innam\\anaconda3\\lib\\site-packages (from matplotlib>=3.7->mne>=1.3.0->PyPREP) (11.1.0)\n",
      "Requirement already satisfied: pyparsing>=2.3.1 in c:\\users\\innam\\anaconda3\\lib\\site-packages (from matplotlib>=3.7->mne>=1.3.0->PyPREP) (3.2.0)\n",
      "Requirement already satisfied: python-dateutil>=2.7 in c:\\users\\innam\\anaconda3\\lib\\site-packages (from matplotlib>=3.7->mne>=1.3.0->PyPREP) (2.9.0.post0)\n",
      "Requirement already satisfied: platformdirs>=2.5.0 in c:\\users\\innam\\anaconda3\\lib\\site-packages (from pooch>=1.5->mne>=1.3.0->PyPREP) (4.3.7)\n",
      "Requirement already satisfied: requests>=2.19.0 in c:\\users\\innam\\anaconda3\\lib\\site-packages (from pooch>=1.5->mne>=1.3.0->PyPREP) (2.32.3)\n",
      "Requirement already satisfied: six>=1.5 in c:\\users\\innam\\anaconda3\\lib\\site-packages (from python-dateutil>=2.7->matplotlib>=3.7->mne>=1.3.0->PyPREP) (1.17.0)\n",
      "Requirement already satisfied: charset-normalizer<4,>=2 in c:\\users\\innam\\anaconda3\\lib\\site-packages (from requests>=2.19.0->pooch>=1.5->mne>=1.3.0->PyPREP) (3.3.2)\n",
      "Requirement already satisfied: idna<4,>=2.5 in c:\\users\\innam\\anaconda3\\lib\\site-packages (from requests>=2.19.0->pooch>=1.5->mne>=1.3.0->PyPREP) (3.7)\n",
      "Requirement already satisfied: urllib3<3,>=1.21.1 in c:\\users\\innam\\anaconda3\\lib\\site-packages (from requests>=2.19.0->pooch>=1.5->mne>=1.3.0->PyPREP) (2.3.0)\n",
      "Requirement already satisfied: certifi>=2017.4.17 in c:\\users\\innam\\anaconda3\\lib\\site-packages (from requests>=2.19.0->pooch>=1.5->mne>=1.3.0->PyPREP) (2025.8.3)\n",
      "Requirement already satisfied: MarkupSafe>=2.0 in c:\\users\\innam\\anaconda3\\lib\\site-packages (from jinja2->mne>=1.3.0->PyPREP) (3.0.2)\n",
      "Requirement already satisfied: colorama in c:\\users\\innam\\anaconda3\\lib\\site-packages (from tqdm->mne>=1.3.0->PyPREP) (0.4.6)\n"
     ]
    }
   ],
   "source": [
    "!pip install PyPREP"
   ]
  },
  {
   "cell_type": "markdown",
   "id": "6909ebf7",
   "metadata": {},
   "source": [
    "PyPREP\n",
    "•\tMembersihkan sinyal multi-kanal dari noise dengan metode otomatis (pipeline PREP).\n",
    "•\tMengidentifikasi dan menangani kanal yang rusak menggunakan algoritme seperti robust referencing.\n",
    "•\tMenghilangkan atau menurunkan gangguan arus listrik 50/60 Hz melalui notch filtering.\n",
    "•\tMenerapkan re-referencing rata-rata (average reference) untuk meningkatkan kualitas sinyal.\n",
    "•\tDidesain untuk EEG, tetapi fungsi seperti deteksi outlier kanal dan penghapusan noise dapat diterapkan pada data multi-kanal lain yang memiliki karakteristik mirip (misalnya biosignal lain), jadi tidak sepenuhnya terbatas hanya EEG."
   ]
  },
  {
   "cell_type": "code",
   "execution_count": 2,
   "id": "62144772",
   "metadata": {},
   "outputs": [
    {
     "name": "stdout",
     "output_type": "stream",
     "text": [
      "Requirement already satisfied: scipy in c:\\users\\innam\\anaconda3\\lib\\site-packages (1.15.3)\n",
      "Requirement already satisfied: numpy<2.5,>=1.23.5 in c:\\users\\innam\\anaconda3\\lib\\site-packages (from scipy) (2.1.3)\n"
     ]
    }
   ],
   "source": [
    "!pip install scipy"
   ]
  },
  {
   "cell_type": "markdown",
   "id": "437bfd19",
   "metadata": {},
   "source": [
    "SciPy\n",
    "•\tMenyediakan fungsi integrasi numerik, solusi persamaan diferensial, optimasi, dan interpolasi data.\n",
    "•\tAnalisis sinyal: filter digital/analog, transformasi Fourier (FFT), spektrogram.\n",
    "•\tAnalisis statistik dan probabilitas: uji hipotesis, distribusi, regresi.\n",
    "•\tPemrosesan citra dasar: konvolusi, filter, morfologi (di modul scipy.ndimage).\n",
    "•\tFungsi jarak dan klastering (di modul scipy.spatial dan scipy.cluster).\n",
    "•\tSering digunakan untuk komputasi ilmiah dan teknik karena memiliki banyak submodul fungsional.\n"
   ]
  },
  {
   "cell_type": "code",
   "execution_count": 3,
   "id": "c66b4f8d",
   "metadata": {},
   "outputs": [
    {
     "name": "stdout",
     "output_type": "stream",
     "text": [
      "Requirement already satisfied: wandb in c:\\users\\innam\\anaconda3\\lib\\site-packages (0.21.1)\n",
      "Requirement already satisfied: click!=8.0.0,>=7.1 in c:\\users\\innam\\anaconda3\\lib\\site-packages (from wandb) (8.1.8)\n",
      "Requirement already satisfied: gitpython!=3.1.29,>=1.0.0 in c:\\users\\innam\\anaconda3\\lib\\site-packages (from wandb) (3.1.43)\n",
      "Requirement already satisfied: packaging in c:\\users\\innam\\anaconda3\\lib\\site-packages (from wandb) (24.2)\n",
      "Requirement already satisfied: platformdirs in c:\\users\\innam\\anaconda3\\lib\\site-packages (from wandb) (4.3.7)\n",
      "Requirement already satisfied: protobuf!=4.21.0,!=5.28.0,<7,>=3.19.0 in c:\\users\\innam\\anaconda3\\lib\\site-packages (from wandb) (5.29.3)\n",
      "Requirement already satisfied: pydantic<3 in c:\\users\\innam\\anaconda3\\lib\\site-packages (from wandb) (2.10.3)\n",
      "Requirement already satisfied: pyyaml in c:\\users\\innam\\anaconda3\\lib\\site-packages (from wandb) (6.0.2)\n",
      "Requirement already satisfied: requests<3,>=2.0.0 in c:\\users\\innam\\anaconda3\\lib\\site-packages (from wandb) (2.32.3)\n",
      "Requirement already satisfied: sentry-sdk>=2.0.0 in c:\\users\\innam\\anaconda3\\lib\\site-packages (from wandb) (2.18.0)\n",
      "Requirement already satisfied: typing-extensions<5,>=4.8 in c:\\users\\innam\\anaconda3\\lib\\site-packages (from wandb) (4.12.2)\n",
      "Requirement already satisfied: annotated-types>=0.6.0 in c:\\users\\innam\\anaconda3\\lib\\site-packages (from pydantic<3->wandb) (0.6.0)\n",
      "Requirement already satisfied: pydantic-core==2.27.1 in c:\\users\\innam\\anaconda3\\lib\\site-packages (from pydantic<3->wandb) (2.27.1)\n",
      "Requirement already satisfied: charset-normalizer<4,>=2 in c:\\users\\innam\\anaconda3\\lib\\site-packages (from requests<3,>=2.0.0->wandb) (3.3.2)\n",
      "Requirement already satisfied: idna<4,>=2.5 in c:\\users\\innam\\anaconda3\\lib\\site-packages (from requests<3,>=2.0.0->wandb) (3.7)\n",
      "Requirement already satisfied: urllib3<3,>=1.21.1 in c:\\users\\innam\\anaconda3\\lib\\site-packages (from requests<3,>=2.0.0->wandb) (2.3.0)\n",
      "Requirement already satisfied: certifi>=2017.4.17 in c:\\users\\innam\\anaconda3\\lib\\site-packages (from requests<3,>=2.0.0->wandb) (2025.8.3)\n",
      "Requirement already satisfied: colorama in c:\\users\\innam\\anaconda3\\lib\\site-packages (from click!=8.0.0,>=7.1->wandb) (0.4.6)\n",
      "Requirement already satisfied: gitdb<5,>=4.0.1 in c:\\users\\innam\\anaconda3\\lib\\site-packages (from gitpython!=3.1.29,>=1.0.0->wandb) (4.0.7)\n",
      "Requirement already satisfied: smmap<5,>=3.0.1 in c:\\users\\innam\\anaconda3\\lib\\site-packages (from gitdb<5,>=4.0.1->gitpython!=3.1.29,>=1.0.0->wandb) (4.0.0)\n"
     ]
    }
   ],
   "source": [
    "!pip install wandb"
   ]
  },
  {
   "cell_type": "markdown",
   "id": "ebe698ff",
   "metadata": {},
   "source": [
    "Weights & Biases (wandb)\n",
    "•\tMencatat dan memvisualisasi metrik eksperimen machine learning (loss, akurasi, F1 score, dsb.) secara real-time.\n",
    "•\tMenyimpan konfigurasi eksperimen dan parameter model untuk replikasi hasil.\n",
    "•\tMenyediakan dashboard untuk membandingkan hasil berbagai percobaan/training model.\n",
    "•\tMengunggah dan menyimpan artefak model (file model, dataset) agar mudah dikelola.\n",
    "•\tIntegrasi dengan framework ML populer (TensorFlow, PyTorch, Scikit-Learn) untuk logging otomatis.\n",
    "•\tMendukung kolaborasi tim dengan akses berbasis akun/proyek.\n"
   ]
  },
  {
   "cell_type": "code",
   "execution_count": 4,
   "id": "33291074",
   "metadata": {},
   "outputs": [
    {
     "name": "stdout",
     "output_type": "stream",
     "text": [
      "Requirement already satisfied: pyECG in c:\\users\\innam\\anaconda3\\lib\\site-packages (0.0.9.1)\n",
      "Requirement already satisfied: ishneholterlib==2017.4.11 in c:\\users\\innam\\anaconda3\\lib\\site-packages (from pyECG) (2017.4.11)\n",
      "Requirement already satisfied: numpy in c:\\users\\innam\\anaconda3\\lib\\site-packages (from pyECG) (2.1.3)\n",
      "Requirement already satisfied: wfdb==2.2.1 in c:\\users\\innam\\anaconda3\\lib\\site-packages (from pyECG) (2.2.1)\n",
      "Requirement already satisfied: pytest in c:\\users\\innam\\anaconda3\\lib\\site-packages (from pyECG) (8.3.4)\n",
      "Requirement already satisfied: pytest-cov in c:\\users\\innam\\anaconda3\\lib\\site-packages (from pyECG) (6.2.1)\n",
      "Requirement already satisfied: PyCRC in c:\\users\\innam\\anaconda3\\lib\\site-packages (from ishneholterlib==2017.4.11->pyECG) (0.11.0)\n",
      "Requirement already satisfied: nose>=1.3.7 in c:\\users\\innam\\anaconda3\\lib\\site-packages (from wfdb==2.2.1->pyECG) (1.3.7)\n",
      "Requirement already satisfied: matplotlib>=1.5.1 in c:\\users\\innam\\anaconda3\\lib\\site-packages (from wfdb==2.2.1->pyECG) (3.10.0)\n",
      "Requirement already satisfied: requests>=2.10.0 in c:\\users\\innam\\anaconda3\\lib\\site-packages (from wfdb==2.2.1->pyECG) (2.32.3)\n",
      "Requirement already satisfied: pandas>=0.19.1 in c:\\users\\innam\\anaconda3\\lib\\site-packages (from wfdb==2.2.1->pyECG) (2.2.3)\n",
      "Requirement already satisfied: scipy>=0.19.0 in c:\\users\\innam\\anaconda3\\lib\\site-packages (from wfdb==2.2.1->pyECG) (1.15.3)\n",
      "Requirement already satisfied: sklearn>=0.0 in c:\\users\\innam\\anaconda3\\lib\\site-packages (from wfdb==2.2.1->pyECG) (0.0.post12)\n",
      "Requirement already satisfied: contourpy>=1.0.1 in c:\\users\\innam\\anaconda3\\lib\\site-packages (from matplotlib>=1.5.1->wfdb==2.2.1->pyECG) (1.3.1)\n",
      "Requirement already satisfied: cycler>=0.10 in c:\\users\\innam\\anaconda3\\lib\\site-packages (from matplotlib>=1.5.1->wfdb==2.2.1->pyECG) (0.11.0)\n",
      "Requirement already satisfied: fonttools>=4.22.0 in c:\\users\\innam\\anaconda3\\lib\\site-packages (from matplotlib>=1.5.1->wfdb==2.2.1->pyECG) (4.55.3)\n",
      "Requirement already satisfied: kiwisolver>=1.3.1 in c:\\users\\innam\\anaconda3\\lib\\site-packages (from matplotlib>=1.5.1->wfdb==2.2.1->pyECG) (1.4.8)\n",
      "Requirement already satisfied: packaging>=20.0 in c:\\users\\innam\\anaconda3\\lib\\site-packages (from matplotlib>=1.5.1->wfdb==2.2.1->pyECG) (24.2)\n",
      "Requirement already satisfied: pillow>=8 in c:\\users\\innam\\anaconda3\\lib\\site-packages (from matplotlib>=1.5.1->wfdb==2.2.1->pyECG) (11.1.0)\n",
      "Requirement already satisfied: pyparsing>=2.3.1 in c:\\users\\innam\\anaconda3\\lib\\site-packages (from matplotlib>=1.5.1->wfdb==2.2.1->pyECG) (3.2.0)\n",
      "Requirement already satisfied: python-dateutil>=2.7 in c:\\users\\innam\\anaconda3\\lib\\site-packages (from matplotlib>=1.5.1->wfdb==2.2.1->pyECG) (2.9.0.post0)\n",
      "Requirement already satisfied: pytz>=2020.1 in c:\\users\\innam\\anaconda3\\lib\\site-packages (from pandas>=0.19.1->wfdb==2.2.1->pyECG) (2024.1)\n",
      "Requirement already satisfied: tzdata>=2022.7 in c:\\users\\innam\\anaconda3\\lib\\site-packages (from pandas>=0.19.1->wfdb==2.2.1->pyECG) (2025.2)\n",
      "Requirement already satisfied: six>=1.5 in c:\\users\\innam\\anaconda3\\lib\\site-packages (from python-dateutil>=2.7->matplotlib>=1.5.1->wfdb==2.2.1->pyECG) (1.17.0)\n",
      "Requirement already satisfied: charset-normalizer<4,>=2 in c:\\users\\innam\\anaconda3\\lib\\site-packages (from requests>=2.10.0->wfdb==2.2.1->pyECG) (3.3.2)\n",
      "Requirement already satisfied: idna<4,>=2.5 in c:\\users\\innam\\anaconda3\\lib\\site-packages (from requests>=2.10.0->wfdb==2.2.1->pyECG) (3.7)\n",
      "Requirement already satisfied: urllib3<3,>=1.21.1 in c:\\users\\innam\\anaconda3\\lib\\site-packages (from requests>=2.10.0->wfdb==2.2.1->pyECG) (2.3.0)\n",
      "Requirement already satisfied: certifi>=2017.4.17 in c:\\users\\innam\\anaconda3\\lib\\site-packages (from requests>=2.10.0->wfdb==2.2.1->pyECG) (2025.8.3)\n",
      "Requirement already satisfied: importlib-metadata>=4.0 in c:\\users\\innam\\anaconda3\\lib\\site-packages (from PyCRC->ishneholterlib==2017.4.11->pyECG) (8.5.0)\n",
      "Requirement already satisfied: zipp>=3.20 in c:\\users\\innam\\anaconda3\\lib\\site-packages (from importlib-metadata>=4.0->PyCRC->ishneholterlib==2017.4.11->pyECG) (3.21.0)\n",
      "Requirement already satisfied: colorama in c:\\users\\innam\\anaconda3\\lib\\site-packages (from pytest->pyECG) (0.4.6)\n",
      "Requirement already satisfied: iniconfig in c:\\users\\innam\\anaconda3\\lib\\site-packages (from pytest->pyECG) (1.1.1)\n",
      "Requirement already satisfied: pluggy<2,>=1.5 in c:\\users\\innam\\anaconda3\\lib\\site-packages (from pytest->pyECG) (1.5.0)\n",
      "Requirement already satisfied: coverage>=7.5 in c:\\users\\innam\\anaconda3\\lib\\site-packages (from coverage[toml]>=7.5->pytest-cov->pyECG) (7.10.5)\n"
     ]
    }
   ],
   "source": [
    "import os\n",
    "os.environ[\"SKLEARN_ALLOW_DEPRECATED_SKLEARN_PACKAGE_INSTALL\"] = \"True\"\n",
    "!pip install pyECG"
   ]
  },
  {
   "cell_type": "markdown",
   "id": "6659a4b7",
   "metadata": {},
   "source": [
    "pyECG\n",
    "•\tMembaca dan memproses sinyal elektrokardiogram (ECG) dari berbagai format file (misalnya WFDB/ISHNE).\n",
    "•\tMendeteksi kompleks QRS, interval PR/QT, dan fitur-fitur sinyal ECG lainnya.\n",
    "•\tMenganalisis detak jantung (heart rate) dan variabilitas detak jantung (HRV).\n",
    "•\tMemvisualisasi sinyal ECG untuk analisis manual maupun otomatis.\n",
    "•\tDapat digunakan untuk evaluasi algoritma deteksi gangguan irama jantung dan penelitian klinis.\n"
   ]
  },
  {
   "cell_type": "markdown",
   "id": "30cc3b40",
   "metadata": {},
   "source": [
    "## Bagian 2"
   ]
  },
  {
   "cell_type": "markdown",
   "id": "d964e45b",
   "metadata": {},
   "source": [
    "1.\tBerikan contoh tentang tidakan melanggar etika dan hukum tentang penggunaan kecerdasan buatan. Sertakan referensi yang digunakan.\n",
    "•\tDeepfake untuk merusak reputasi\n",
    "Pembuatan video palsu menggunakan AI untuk memfitnah atau memanipulasi opini publik.\n",
    "Risiko: Merugikan korban, melanggar privasi, dan dapat dikategorikan sebagai pencemaran nama baik.\n",
    "Referensi:\n",
    "Chesney, R., & Citron, D. (2019). Deep Fakes: A Looming Challenge for Privacy, Democracy, and National Security. California Law Review, 107(6). https://doi.org/10.2139/ssrn.3213954\n",
    "•\tPlagiarisme otomatis dengan AI (tanpa sumber)\n",
    "Menggunakan AI untuk menulis skripsi/jurnal tanpa mencantumkan sumber atau mengklaim sebagai karya sendiri.\n",
    "Risiko: Pelanggaran integritas akademik dan hak cipta.\n",
    "Referensi:\n",
    "ACM Code of Ethics and Professional Conduct (2018): Bagian 1.6 tentang penghormatan hak cipta dan kekayaan intelektual. https://www.acm.org/code-of-ethics\n",
    "•\tPenyalahgunaan data pribadi untuk pelatihan AI tanpa izin\n",
    "Menggunakan data pengguna (foto, riwayat medis) untuk melatih model tanpa persetujuan.\n",
    "Risiko: Melanggar UU ITE di Indonesia dan GDPR di Eropa.\n",
    "Referensi:\n",
    "1.\tUndang-Undang ITE Indonesia (UU No.11 Tahun 2008, Pasal 26) https://peraturan.bpk.go.id/Home/Details/38775/uu-no-11-tahun-2008 \n",
    "2.\tGDPR (General Data Protection Regulation) EU 2016/679, Article 6 tentang lawful processing of personal data. https://gdpr.eu/ \n",
    "•\tPenggunaan AI untuk diskriminasi atau manipulasi\n",
    "Contoh: algoritma rekrutmen yang bias terhadap gender atau ras.\n",
    "Referensi:\n",
    "EU AI Act 2024, Kategori \"High-Risk AI Systems\" yang mengatur larangan penggunaan AI untuk diskriminasi. https://eur-lex.europa.eu/eli/reg/2024/1689/oj \n"
   ]
  },
  {
   "cell_type": "markdown",
   "id": "9acc7073",
   "metadata": {},
   "source": [
    "2.\tBerikan contoh tentang dampak energi dan lingkungan terhadap pemanfaatan kecerdasan buatan dan bagaimana cara mengatasinya (Anda dapat memberikan pendapat pribadi). Sertakan referensi yang digunakan.\n",
    "1.\tEnergi Listrik & Emisi Karbon (Operational)\n",
    "Dampak:\n",
    "Pelatihan model AI besar (misalnya GPT, BERT) membutuhkan daya komputasi yang tinggi sehingga meningkatkan konsumsi listrik dan emisi karbon.\n",
    "Strubell et al. (2019) menemukan pelatihan model NLP besar dapat menghasilkan emisi CO₂ ~626.000 lbs—setara emisi lima mobil selama umur pakai.\n",
    "Referensi: Data Science Dojo, Carbon Direct.\n",
    "Solusi:\n",
    "•\tPruning & distillation: Menghapus bobot/neuron tidak penting dan mengompresi model untuk mengurangi konsumsi energi (Carbon Crane, FocalX).\n",
    "•\tDesain efisien: Memilih arsitektur model ringkas namun tetap akurat (WTW).\n",
    "•\tTracking energi: Menggunakan alat seperti eco2AI untuk memantau jejak energi/emisi model (arXiv: eco2AI).\n",
    "•\tGreen AI approach: Menjadikan efisiensi energi sebagai metrik utama desain model (Green Software Foundation, arXiv: Green AI).\n",
    "2.\tAir (Cooling dan Sumber Daya)\n",
    "Dampak:\n",
    "Data center untuk AI memerlukan pendinginan intensif yang mengonsumsi air dalam jumlah besar. Pelatihan GPT-3 diperkirakan menggunakan 700.000 liter air, sedangkan operasional pusat data menyedot miliaran m³ air per tahun.\n",
    "Referensi: MIT News, Business Insider.\n",
    "Solusi:\n",
    "•\tLokasi di iklim dingin: Mengurangi kebutuhan pendinginan buatan, misalnya Facebook di Luleå dan Google di Hamina (Wikipedia).\n",
    "•\tClosed-loop cooling: Sistem sirkulasi ulang air pendingin untuk mengurangi limbah air (Wikipedia).\n",
    "•\tOptimasi desain data center: Modular design, pemanfaatan panas sisa, ultrasonic humidification, evaporative cooling (Wikipedia – Green data center).\n",
    "\n",
    "3.\tPermintaan Energi yang Meningkat\n",
    "Dampak:\n",
    "IEA memproyeksikan konsumsi listrik data center global lebih dari dua kali lipat pada 2030, dengan AI sebagai penyumbang utama.\n",
    "Referensi: IEA.\n",
    "Solusi:\n",
    "•\tMigrasi ke energi terbarukan: Menggunakan sumber energi bersih di data center (Yale School of Environment, Almawave).\n",
    "•\tHardware dan pendinginan efisien: GPU/TPU hemat energi, neuromorphic chips, immersion cooling (IEE PSU, TechRadar).\n",
    "•\tKebijakan & transparansi: Regulasi jejak energi (AI Environmental Impacts Act) dan laporan dampak lingkungan (TIME, Data Science Dojo).\n",
    "•\tAI untuk efisiensi eksternal: Pemanfaatan AI untuk optimalkan distribusi energi, deteksi anomali konsumsi, efisiensi industri (World Economic Forum, AIMultiple, Clean Energy Forum, Digital Realty).\n"
   ]
  }
 ],
 "metadata": {
  "kernelspec": {
   "display_name": "base",
   "language": "python",
   "name": "python3"
  },
  "language_info": {
   "codemirror_mode": {
    "name": "ipython",
    "version": 3
   },
   "file_extension": ".py",
   "mimetype": "text/x-python",
   "name": "python",
   "nbconvert_exporter": "python",
   "pygments_lexer": "ipython3",
   "version": "3.13.5"
  }
 },
 "nbformat": 4,
 "nbformat_minor": 5
}
